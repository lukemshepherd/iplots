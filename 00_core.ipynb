{
 "cells": [
  {
   "cell_type": "code",
   "execution_count": null,
   "metadata": {},
   "outputs": [],
   "source": [
    "# default_exp core"
   ]
  },
  {
   "cell_type": "code",
   "execution_count": null,
   "metadata": {},
   "outputs": [
    {
     "name": "stdout",
     "output_type": "stream",
     "text": [
      "The autoreload extension is already loaded. To reload it, use:\n",
      "  %reload_ext autoreload\n"
     ]
    }
   ],
   "source": [
    "%load_ext autoreload\n",
    "%autoreload 2"
   ]
  },
  {
   "cell_type": "markdown",
   "metadata": {},
   "source": [
    "# Contry\n",
    "> Contains basic population and colour vaulues"
   ]
  },
  {
   "cell_type": "code",
   "execution_count": null,
   "metadata": {},
   "outputs": [],
   "source": [
    "#hide\n",
    "from nbdev.showdoc import *"
   ]
  },
  {
   "cell_type": "code",
   "execution_count": null,
   "metadata": {},
   "outputs": [],
   "source": [
    "class Country:\n",
    "    window = 7\n",
    "    list_of = []\n",
    "    \n",
    "    def __init__(self, name, population, color):\n",
    "        assert type(name) == str\n",
    "#         raise 'name must be string'\n",
    "        self.name = name\n",
    "        self.pop = population\n",
    "        self.color = color\n",
    "        self.linewidth= 4\n",
    "        self.alpha = 0.7\n",
    "        \n",
    "\n",
    "        # Prevnets duplicate countries\n",
    "        names = [getattr(nation,'name') for nation in Country.list_of]\n",
    "        \n",
    "        if self.name not in names:\n",
    "            Country.list_of.append(self)\n",
    "        \n",
    "        \n",
    "    def __str__(self):\n",
    "        return self.name\n",
    "    \n",
    "    def __repr__(self):\n",
    "        return f'Country_cls_Object:{self.name}'\n",
    "    \n",
    "      \n",
    "    def set_data(self,df):\n",
    "        self.data = df\n",
    "    \n",
    "\n",
    "    @classmethod\n",
    "    def get_data(cls, df, df_name):\n",
    "        setattr(cls,f'data_{df_name}', df)\n",
    "    \n",
    "    @classmethod\n",
    "    def set_time(cls, df_name, time1, time2):\n",
    "        \n",
    "        cls.time1 = time1\n",
    "        cls.time2 = time2\n",
    "        \n",
    "        df = getattr(cls,f'data_{df_name}')   \n",
    "        df_date_range = df.loc[time1:time2]\n",
    "        \n",
    "        setattr(cls,f'data_{df_name}_From_Date',df_date_range)\n",
    "        \n",
    "#         self.df_index = df_date_range[df_date_range['location'] == self.name].index"
   ]
  },
  {
   "cell_type": "code",
   "execution_count": null,
   "metadata": {},
   "outputs": [
    {
     "ename": "SyntaxError",
     "evalue": "invalid syntax (<ipython-input-2-fbc18d1df356>, line 2)",
     "output_type": "error",
     "traceback": [
      "\u001b[0;36m  File \u001b[0;32m\"<ipython-input-2-fbc18d1df356>\"\u001b[0;36m, line \u001b[0;32m2\u001b[0m\n\u001b[0;31m    > Contains basic population and colour vaulues\u001b[0m\n\u001b[0m    ^\u001b[0m\n\u001b[0;31mSyntaxError\u001b[0m\u001b[0;31m:\u001b[0m invalid syntax\n"
     ]
    }
   ],
   "source": [
    "# Con1try\n",
    "> Contains basic population and colour vaulues"
   ]
  }
 ],
 "metadata": {
  "kernelspec": {
   "display_name": "Python [conda env:root] *",
   "language": "python",
   "name": "conda-root-py"
  }
 },
 "nbformat": 4,
 "nbformat_minor": 4
}
