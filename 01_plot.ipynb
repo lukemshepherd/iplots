{
 "cells": [
  {
   "cell_type": "code",
   "execution_count": null,
   "metadata": {},
   "outputs": [],
   "source": []
  }
 ],
 "metadata": {
  "kernelspec": {
   "display_name": "Python [conda env:isage]",
   "language": "python",
   "name": "conda-env-isage-py"
  }
 },
 "nbformat": 4,
 "nbformat_minor": 4
}
